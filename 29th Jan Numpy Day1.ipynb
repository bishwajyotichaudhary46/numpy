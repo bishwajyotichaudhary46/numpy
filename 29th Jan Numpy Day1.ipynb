{
 "cells": [
  {
   "cell_type": "code",
   "execution_count": 1,
   "id": "89a8270c-9f9b-4dfd-a685-0512a938fe73",
   "metadata": {},
   "outputs": [],
   "source": [
    "import numpy as np"
   ]
  },
  {
   "cell_type": "code",
   "execution_count": 2,
   "id": "e7907ecf-0f16-42cc-abe8-1bef67fad4f4",
   "metadata": {},
   "outputs": [],
   "source": [
    "l = [1,2 , 3,4,4]"
   ]
  },
  {
   "cell_type": "code",
   "execution_count": 3,
   "id": "383d5b4c-4b8f-4fe1-93e7-38b6e4757be8",
   "metadata": {},
   "outputs": [
    {
     "data": {
      "text/plain": [
       "list"
      ]
     },
     "execution_count": 3,
     "metadata": {},
     "output_type": "execute_result"
    }
   ],
   "source": [
    "type(l)"
   ]
  },
  {
   "cell_type": "code",
   "execution_count": 4,
   "id": "fcb78ca0-28c7-46e6-99b8-aad315746c45",
   "metadata": {},
   "outputs": [],
   "source": [
    "a = np.array(l)"
   ]
  },
  {
   "cell_type": "code",
   "execution_count": 5,
   "id": "2886c20d-6a41-4f76-b1e9-347836b7895f",
   "metadata": {},
   "outputs": [
    {
     "data": {
      "text/plain": [
       "numpy.ndarray"
      ]
     },
     "execution_count": 5,
     "metadata": {},
     "output_type": "execute_result"
    }
   ],
   "source": [
    "type(a)"
   ]
  },
  {
   "cell_type": "code",
   "execution_count": 6,
   "id": "29d8a9c7-a8fb-4702-97eb-b1b2d72197f3",
   "metadata": {},
   "outputs": [
    {
     "data": {
      "text/plain": [
       "array([1, 2, 3, 4, 4])"
      ]
     },
     "execution_count": 6,
     "metadata": {},
     "output_type": "execute_result"
    }
   ],
   "source": [
    "a"
   ]
  },
  {
   "cell_type": "code",
   "execution_count": 7,
   "id": "1eaa829e-4c81-4b5e-8d38-c784ec1e4c73",
   "metadata": {},
   "outputs": [],
   "source": [
    "a1 = np.array([[1,2,3],[3,4,5]])"
   ]
  },
  {
   "cell_type": "code",
   "execution_count": 8,
   "id": "024fdde0-12c5-4165-9500-7d8172581360",
   "metadata": {},
   "outputs": [
    {
     "data": {
      "text/plain": [
       "array([[1, 2, 3],\n",
       "       [3, 4, 5]])"
      ]
     },
     "execution_count": 8,
     "metadata": {},
     "output_type": "execute_result"
    }
   ],
   "source": [
    "a1"
   ]
  },
  {
   "cell_type": "code",
   "execution_count": 21,
   "id": "6886114e-331e-4a18-ab9b-9007b2b9a9a6",
   "metadata": {},
   "outputs": [],
   "source": [
    "a2 = np.array([[[1,2,3],[0.3,4,0.5]]])"
   ]
  },
  {
   "cell_type": "code",
   "execution_count": 15,
   "id": "b49a91de-1764-4dda-af72-f512631dd368",
   "metadata": {},
   "outputs": [
    {
     "data": {
      "text/plain": [
       "array([[[1. , 2. , 3. ],\n",
       "        [0.3, 4. , 0.5]]])"
      ]
     },
     "execution_count": 15,
     "metadata": {},
     "output_type": "execute_result"
    }
   ],
   "source": [
    "a2"
   ]
  },
  {
   "cell_type": "code",
   "execution_count": 11,
   "id": "a9562e55-80d9-4599-acfe-67496d3bd47f",
   "metadata": {},
   "outputs": [
    {
     "data": {
      "text/plain": [
       "1"
      ]
     },
     "execution_count": 11,
     "metadata": {},
     "output_type": "execute_result"
    }
   ],
   "source": [
    "a.ndim"
   ]
  },
  {
   "cell_type": "code",
   "execution_count": 12,
   "id": "b0d17d2e-e285-484a-9c88-9fbe45a38188",
   "metadata": {},
   "outputs": [
    {
     "data": {
      "text/plain": [
       "2"
      ]
     },
     "execution_count": 12,
     "metadata": {},
     "output_type": "execute_result"
    }
   ],
   "source": [
    "a1.ndim"
   ]
  },
  {
   "cell_type": "code",
   "execution_count": 13,
   "id": "0e7d0c69-86c9-4e5c-a33a-566be2382e34",
   "metadata": {},
   "outputs": [
    {
     "data": {
      "text/plain": [
       "3"
      ]
     },
     "execution_count": 13,
     "metadata": {},
     "output_type": "execute_result"
    }
   ],
   "source": [
    "a2.ndim"
   ]
  },
  {
   "cell_type": "code",
   "execution_count": 19,
   "id": "273e6626-705e-4581-be25-e49aa7f04fb4",
   "metadata": {},
   "outputs": [],
   "source": [
    "a3 = np.array([[[1,2,3],[0.3,4,0.5]],[[1,2,3],[0.3,4,0.5]],[[1,2,3],[0.3,4,0.5]],[[1,2,3],[0.3,4,0.5]]])"
   ]
  },
  {
   "cell_type": "code",
   "execution_count": 20,
   "id": "5a063dc6-78d1-4b00-b6bc-633e1090860d",
   "metadata": {},
   "outputs": [
    {
     "data": {
      "text/plain": [
       "array([[[1. , 2. , 3. ],\n",
       "        [0.3, 4. , 0.5]],\n",
       "\n",
       "       [[1. , 2. , 3. ],\n",
       "        [0.3, 4. , 0.5]],\n",
       "\n",
       "       [[1. , 2. , 3. ],\n",
       "        [0.3, 4. , 0.5]],\n",
       "\n",
       "       [[1. , 2. , 3. ],\n",
       "        [0.3, 4. , 0.5]]])"
      ]
     },
     "execution_count": 20,
     "metadata": {},
     "output_type": "execute_result"
    }
   ],
   "source": [
    "a3"
   ]
  },
  {
   "cell_type": "code",
   "execution_count": 22,
   "id": "0a72083b-3ed2-40c2-a24f-03c663ea6bd4",
   "metadata": {},
   "outputs": [
    {
     "data": {
      "text/plain": [
       "3"
      ]
     },
     "execution_count": 22,
     "metadata": {},
     "output_type": "execute_result"
    }
   ],
   "source": [
    "a3.ndim"
   ]
  },
  {
   "cell_type": "code",
   "execution_count": 23,
   "id": "495f8aad-4033-44c3-95b3-ad0868dd849a",
   "metadata": {},
   "outputs": [],
   "source": [
    "l = [1,2,3,4]"
   ]
  },
  {
   "cell_type": "code",
   "execution_count": 24,
   "id": "ea7c705d-a701-455a-b967-3fdc48de3917",
   "metadata": {},
   "outputs": [
    {
     "data": {
      "text/plain": [
       "array([1, 2, 3, 4])"
      ]
     },
     "execution_count": 24,
     "metadata": {},
     "output_type": "execute_result"
    }
   ],
   "source": [
    "a = np.asarray(l)"
   ]
  },
  {
   "cell_type": "code",
   "execution_count": 26,
   "id": "6827f725-bbc1-4604-a39b-f7dc0e168d83",
   "metadata": {},
   "outputs": [],
   "source": [
    "m= np.matrix(l)"
   ]
  },
  {
   "cell_type": "code",
   "execution_count": 27,
   "id": "3c99d15c-19bc-4a4b-89c4-bc72f12603ab",
   "metadata": {},
   "outputs": [
    {
     "data": {
      "text/plain": [
       "array([1, 2, 3, 4])"
      ]
     },
     "execution_count": 27,
     "metadata": {},
     "output_type": "execute_result"
    }
   ],
   "source": [
    "np.asanyarray(l)"
   ]
  },
  {
   "cell_type": "code",
   "execution_count": 28,
   "id": "adc785e8-dc75-4523-8d2d-c69b53117144",
   "metadata": {},
   "outputs": [
    {
     "data": {
      "text/plain": [
       "array([1, 2, 3, 4, 4])"
      ]
     },
     "execution_count": 28,
     "metadata": {},
     "output_type": "execute_result"
    }
   ],
   "source": [
    "np.asanyarray(a)"
   ]
  },
  {
   "cell_type": "code",
   "execution_count": 29,
   "id": "0704467c-bc38-4247-a962-830bd9bc8341",
   "metadata": {},
   "outputs": [
    {
     "data": {
      "text/plain": [
       "matrix([[1, 2, 3, 4]])"
      ]
     },
     "execution_count": 29,
     "metadata": {},
     "output_type": "execute_result"
    }
   ],
   "source": [
    "np.asanyarray(m)"
   ]
  },
  {
   "cell_type": "code",
   "execution_count": 30,
   "id": "50fa1195-cd87-4877-94b7-be43d092bcba",
   "metadata": {},
   "outputs": [
    {
     "data": {
      "text/plain": [
       "array([1, 2, 3, 4, 4])"
      ]
     },
     "execution_count": 30,
     "metadata": {},
     "output_type": "execute_result"
    }
   ],
   "source": [
    "a"
   ]
  },
  {
   "cell_type": "code",
   "execution_count": 31,
   "id": "bb352553-4433-4cad-b1ad-be223974adfc",
   "metadata": {},
   "outputs": [],
   "source": [
    "a1 = a"
   ]
  },
  {
   "cell_type": "code",
   "execution_count": 32,
   "id": "c7dcf09c-b2fd-492a-80be-b071f2230ada",
   "metadata": {},
   "outputs": [
    {
     "data": {
      "text/plain": [
       "array([1, 2, 3, 4, 4])"
      ]
     },
     "execution_count": 32,
     "metadata": {},
     "output_type": "execute_result"
    }
   ],
   "source": [
    "a1"
   ]
  },
  {
   "cell_type": "code",
   "execution_count": 33,
   "id": "4aa73711-bdc2-43af-b249-7912f205da08",
   "metadata": {},
   "outputs": [
    {
     "data": {
      "text/plain": [
       "array([1, 2, 3, 4, 4])"
      ]
     },
     "execution_count": 33,
     "metadata": {},
     "output_type": "execute_result"
    }
   ],
   "source": [
    "a"
   ]
  },
  {
   "cell_type": "code",
   "execution_count": 34,
   "id": "1de22113-1092-45d2-ba6c-4bdbd084f737",
   "metadata": {},
   "outputs": [
    {
     "data": {
      "text/plain": [
       "1"
      ]
     },
     "execution_count": 34,
     "metadata": {},
     "output_type": "execute_result"
    }
   ],
   "source": [
    "a[0]"
   ]
  },
  {
   "cell_type": "code",
   "execution_count": 35,
   "id": "675bdd54-a597-45fb-8c2f-b75142ea247f",
   "metadata": {},
   "outputs": [],
   "source": [
    "a[0]= 10"
   ]
  },
  {
   "cell_type": "code",
   "execution_count": 36,
   "id": "06728a48-a915-4c78-98c5-4db3325cc0ec",
   "metadata": {},
   "outputs": [
    {
     "data": {
      "text/plain": [
       "array([10,  2,  3,  4,  4])"
      ]
     },
     "execution_count": 36,
     "metadata": {},
     "output_type": "execute_result"
    }
   ],
   "source": [
    "a"
   ]
  },
  {
   "cell_type": "code",
   "execution_count": 38,
   "id": "aef827f5-d485-4103-8b3f-8bca06dcc192",
   "metadata": {},
   "outputs": [
    {
     "data": {
      "text/plain": [
       "array([10,  2,  3,  4,  4])"
      ]
     },
     "execution_count": 38,
     "metadata": {},
     "output_type": "execute_result"
    }
   ],
   "source": [
    "# due assignment\n",
    "a1"
   ]
  },
  {
   "cell_type": "code",
   "execution_count": 39,
   "id": "cae9aead-10ac-4c07-875b-4db815f89439",
   "metadata": {},
   "outputs": [],
   "source": [
    "a1[3] = 50"
   ]
  },
  {
   "cell_type": "code",
   "execution_count": 40,
   "id": "b272f0d7-ff8b-47b8-812c-5af24bd48df0",
   "metadata": {},
   "outputs": [
    {
     "data": {
      "text/plain": [
       "array([10,  2,  3, 50,  4])"
      ]
     },
     "execution_count": 40,
     "metadata": {},
     "output_type": "execute_result"
    }
   ],
   "source": [
    "a1"
   ]
  },
  {
   "cell_type": "code",
   "execution_count": 41,
   "id": "428231a4-e292-4d7d-ac5c-dd9222608cc6",
   "metadata": {},
   "outputs": [
    {
     "data": {
      "text/plain": [
       "array([10,  2,  3, 50,  4])"
      ]
     },
     "execution_count": 41,
     "metadata": {},
     "output_type": "execute_result"
    }
   ],
   "source": [
    "a"
   ]
  },
  {
   "cell_type": "code",
   "execution_count": 42,
   "id": "aea2026d-c453-424c-be67-33298329034b",
   "metadata": {},
   "outputs": [],
   "source": [
    "a2  = np.copy(a)"
   ]
  },
  {
   "cell_type": "code",
   "execution_count": 43,
   "id": "8ae94a51-18f3-4014-bb35-5a7284907729",
   "metadata": {},
   "outputs": [
    {
     "data": {
      "text/plain": [
       "array([10,  2,  3, 50,  4])"
      ]
     },
     "execution_count": 43,
     "metadata": {},
     "output_type": "execute_result"
    }
   ],
   "source": [
    "a2"
   ]
  },
  {
   "cell_type": "code",
   "execution_count": 44,
   "id": "2890458e-3370-4978-9570-563e23287667",
   "metadata": {},
   "outputs": [],
   "source": [
    "a2[2] = 30"
   ]
  },
  {
   "cell_type": "code",
   "execution_count": 45,
   "id": "c193c0e6-776a-44df-b218-1e0fba640d41",
   "metadata": {},
   "outputs": [
    {
     "data": {
      "text/plain": [
       "array([10,  2, 30, 50,  4])"
      ]
     },
     "execution_count": 45,
     "metadata": {},
     "output_type": "execute_result"
    }
   ],
   "source": [
    "a2"
   ]
  },
  {
   "cell_type": "code",
   "execution_count": 46,
   "id": "14ddca69-15a2-4f5c-8e85-333c0f09ccce",
   "metadata": {},
   "outputs": [
    {
     "data": {
      "text/plain": [
       "array([10,  2,  3, 50,  4])"
      ]
     },
     "execution_count": 46,
     "metadata": {},
     "output_type": "execute_result"
    }
   ],
   "source": [
    "a1"
   ]
  },
  {
   "cell_type": "code",
   "execution_count": 47,
   "id": "1d6fcdab-58de-4bc0-8bc7-606242eaae53",
   "metadata": {},
   "outputs": [
    {
     "data": {
      "text/plain": [
       "array([10,  2,  3, 50,  4])"
      ]
     },
     "execution_count": 47,
     "metadata": {},
     "output_type": "execute_result"
    }
   ],
   "source": [
    "a"
   ]
  },
  {
   "cell_type": "code",
   "execution_count": 49,
   "id": "e4996631-fc3f-4ffc-a7c9-fcf25436a7d7",
   "metadata": {},
   "outputs": [
    {
     "data": {
      "text/plain": [
       "array([[ True, False, False, False],\n",
       "       [False,  True, False, False],\n",
       "       [False, False,  True, False]])"
      ]
     },
     "execution_count": 49,
     "metadata": {},
     "output_type": "execute_result"
    }
   ],
   "source": [
    "# generate array\n",
    "np.fromfunction(lambda i,j : i==j ,(3,4))"
   ]
  },
  {
   "cell_type": "code",
   "execution_count": 48,
   "id": "ca0f8a26-e0db-4175-8c7b-1326f643e1b0",
   "metadata": {},
   "outputs": [
    {
     "data": {
      "text/plain": [
       "array([[ True, False, False, False],\n",
       "       [False,  True, False, False],\n",
       "       [False, False,  True, False]])"
      ]
     },
     "execution_count": 48,
     "metadata": {},
     "output_type": "execute_result"
    }
   ],
   "source": [
    "np.fromfunction(lambda i,j : i==j ,(3,4))"
   ]
  },
  {
   "cell_type": "code",
   "execution_count": 50,
   "id": "2828ef6b-1b74-4db5-84b8-d60764659b8b",
   "metadata": {},
   "outputs": [
    {
     "data": {
      "text/plain": [
       "array([[0.76406244, 0.68854558, 0.73994642],\n",
       "       [0.7906595 , 0.75015259, 0.01913508]])"
      ]
     },
     "execution_count": 50,
     "metadata": {},
     "output_type": "execute_result"
    }
   ],
   "source": [
    "np.random.rand(2,3)"
   ]
  },
  {
   "cell_type": "code",
   "execution_count": 51,
   "id": "e9929cea-c1f5-4758-8b41-22d268c09ec5",
   "metadata": {},
   "outputs": [
    {
     "data": {
      "text/plain": [
       "array([[[0.78340662, 0.45905601],\n",
       "        [0.13057832, 0.80783973],\n",
       "        [0.67759982, 0.06184429]],\n",
       "\n",
       "       [[0.58981482, 0.60421385],\n",
       "        [0.01472733, 0.78706304],\n",
       "        [0.88491097, 0.44486721]]])"
      ]
     },
     "execution_count": 51,
     "metadata": {},
     "output_type": "execute_result"
    }
   ],
   "source": [
    "np.random.rand(2,3,2)"
   ]
  },
  {
   "cell_type": "code",
   "execution_count": 52,
   "id": "5d44ed4c-63d1-468e-a860-6226faf9aa0b",
   "metadata": {},
   "outputs": [
    {
     "data": {
      "text/plain": [
       "array([[[[0.27451272, 0.43762298],\n",
       "         [0.75802574, 0.04882119]],\n",
       "\n",
       "        [[0.78527018, 0.72962464],\n",
       "         [0.47752404, 0.08199146]],\n",
       "\n",
       "        [[0.1456519 , 0.37310257],\n",
       "         [0.29979531, 0.00393917]]],\n",
       "\n",
       "\n",
       "       [[[0.8166737 , 0.58755113],\n",
       "         [0.63192211, 0.66741215]],\n",
       "\n",
       "        [[0.6614859 , 0.46185137],\n",
       "         [0.98077041, 0.73740095]],\n",
       "\n",
       "        [[0.56187894, 0.84641096],\n",
       "         [0.2659971 , 0.19809467]]]])"
      ]
     },
     "execution_count": 52,
     "metadata": {},
     "output_type": "execute_result"
    }
   ],
   "source": [
    "np.random.rand(2,3,2,2)"
   ]
  },
  {
   "cell_type": "code",
   "execution_count": 54,
   "id": "495a3eaa-a697-4e2d-a800-911def8d7c62",
   "metadata": {},
   "outputs": [
    {
     "data": {
      "text/plain": [
       "array([[[0.19519164, 0.97636189, 0.287804  , 0.83424838],\n",
       "        [0.13380409, 0.19999408, 0.58561941, 0.15708987],\n",
       "        [0.2565914 , 0.63466581, 0.28720786, 0.29452278],\n",
       "        [0.53440876, 0.902652  , 0.54457112, 0.26541773]],\n",
       "\n",
       "       [[0.50158415, 0.58054923, 0.20787754, 0.3463602 ],\n",
       "        [0.9142929 , 0.65921368, 0.41692511, 0.5168321 ],\n",
       "        [0.14495448, 0.07520009, 0.44309548, 0.05813578],\n",
       "        [0.93638359, 0.53524339, 0.16184116, 0.49015495]],\n",
       "\n",
       "       [[0.19964291, 0.99065411, 0.56855231, 0.03332061],\n",
       "        [0.28143616, 0.57027707, 0.66940602, 0.93268759],\n",
       "        [0.58716516, 0.1278521 , 0.73852633, 0.71923731],\n",
       "        [0.69533032, 0.90519144, 0.14646693, 0.7003639 ]]])"
      ]
     },
     "execution_count": 54,
     "metadata": {},
     "output_type": "execute_result"
    }
   ],
   "source": [
    "np.random.rand(3,4,4)"
   ]
  },
  {
   "cell_type": "code",
   "execution_count": 61,
   "id": "a952369b-0da1-4efe-9643-328a407fd87d",
   "metadata": {},
   "outputs": [],
   "source": [
    "d1= np.random.randint(0,10,(4,2,4))"
   ]
  },
  {
   "cell_type": "code",
   "execution_count": 58,
   "id": "2bbb6006-6b12-4f65-bfbd-a5c5b75595e0",
   "metadata": {},
   "outputs": [],
   "source": [
    "import pandas as pd"
   ]
  },
  {
   "cell_type": "code",
   "execution_count": 56,
   "id": "e0df46ec-de3f-45e9-9137-167153dc014a",
   "metadata": {},
   "outputs": [],
   "source": [
    "d = np.random.rand(3,4)"
   ]
  },
  {
   "cell_type": "code",
   "execution_count": 59,
   "id": "cb3c3a6e-a530-4c98-ad68-a749ad8b68b0",
   "metadata": {},
   "outputs": [],
   "source": [
    "df = pd.DataFrame(d)"
   ]
  },
  {
   "cell_type": "code",
   "execution_count": 60,
   "id": "93c588d9-c702-473e-bd4b-ce467bc13fb3",
   "metadata": {},
   "outputs": [
    {
     "data": {
      "text/html": [
       "<div>\n",
       "<style scoped>\n",
       "    .dataframe tbody tr th:only-of-type {\n",
       "        vertical-align: middle;\n",
       "    }\n",
       "\n",
       "    .dataframe tbody tr th {\n",
       "        vertical-align: top;\n",
       "    }\n",
       "\n",
       "    .dataframe thead th {\n",
       "        text-align: right;\n",
       "    }\n",
       "</style>\n",
       "<table border=\"1\" class=\"dataframe\">\n",
       "  <thead>\n",
       "    <tr style=\"text-align: right;\">\n",
       "      <th></th>\n",
       "      <th>0</th>\n",
       "      <th>1</th>\n",
       "      <th>2</th>\n",
       "      <th>3</th>\n",
       "    </tr>\n",
       "  </thead>\n",
       "  <tbody>\n",
       "    <tr>\n",
       "      <th>0</th>\n",
       "      <td>0.298639</td>\n",
       "      <td>0.902577</td>\n",
       "      <td>0.723655</td>\n",
       "      <td>0.900630</td>\n",
       "    </tr>\n",
       "    <tr>\n",
       "      <th>1</th>\n",
       "      <td>0.141952</td>\n",
       "      <td>0.238981</td>\n",
       "      <td>0.386050</td>\n",
       "      <td>0.617647</td>\n",
       "    </tr>\n",
       "    <tr>\n",
       "      <th>2</th>\n",
       "      <td>0.475119</td>\n",
       "      <td>0.801164</td>\n",
       "      <td>0.796625</td>\n",
       "      <td>0.247540</td>\n",
       "    </tr>\n",
       "  </tbody>\n",
       "</table>\n",
       "</div>"
      ],
      "text/plain": [
       "          0         1         2         3\n",
       "0  0.298639  0.902577  0.723655  0.900630\n",
       "1  0.141952  0.238981  0.386050  0.617647\n",
       "2  0.475119  0.801164  0.796625  0.247540"
      ]
     },
     "execution_count": 60,
     "metadata": {},
     "output_type": "execute_result"
    }
   ],
   "source": [
    "df"
   ]
  },
  {
   "cell_type": "code",
   "execution_count": 62,
   "id": "6b379f80-d841-49e1-a889-af8b0896a226",
   "metadata": {},
   "outputs": [
    {
     "data": {
      "text/plain": [
       "array([[[0, 8, 8, 4],\n",
       "        [6, 0, 3, 7]],\n",
       "\n",
       "       [[3, 1, 3, 5],\n",
       "        [2, 2, 1, 1]],\n",
       "\n",
       "       [[3, 8, 9, 7],\n",
       "        [6, 7, 3, 4]],\n",
       "\n",
       "       [[3, 6, 9, 7],\n",
       "        [8, 2, 5, 1]]])"
      ]
     },
     "execution_count": 62,
     "metadata": {},
     "output_type": "execute_result"
    }
   ],
   "source": [
    "d1"
   ]
  },
  {
   "cell_type": "code",
   "execution_count": 64,
   "id": "a90ca9f3-4bda-4c7e-a30c-e487d06dbd88",
   "metadata": {},
   "outputs": [
    {
     "data": {
      "text/plain": [
       "array([[0, 8, 8, 4],\n",
       "       [6, 0, 3, 7],\n",
       "       [3, 1, 3, 5],\n",
       "       [2, 2, 1, 1],\n",
       "       [3, 8, 9, 7],\n",
       "       [6, 7, 3, 4],\n",
       "       [3, 6, 9, 7],\n",
       "       [8, 2, 5, 1]])"
      ]
     },
     "execution_count": 64,
     "metadata": {},
     "output_type": "execute_result"
    }
   ],
   "source": [
    "d1.reshape(8 , 4)"
   ]
  },
  {
   "cell_type": "code",
   "execution_count": 67,
   "id": "0f8964ec-c442-4b69-a426-0cbfdf2d61b1",
   "metadata": {},
   "outputs": [],
   "source": [
    "d1 = d1.reshape(8,-1)"
   ]
  },
  {
   "cell_type": "code",
   "execution_count": 69,
   "id": "38324cbd-5102-4346-8fc3-13dcff331521",
   "metadata": {},
   "outputs": [
    {
     "data": {
      "text/html": [
       "<div>\n",
       "<style scoped>\n",
       "    .dataframe tbody tr th:only-of-type {\n",
       "        vertical-align: middle;\n",
       "    }\n",
       "\n",
       "    .dataframe tbody tr th {\n",
       "        vertical-align: top;\n",
       "    }\n",
       "\n",
       "    .dataframe thead th {\n",
       "        text-align: right;\n",
       "    }\n",
       "</style>\n",
       "<table border=\"1\" class=\"dataframe\">\n",
       "  <thead>\n",
       "    <tr style=\"text-align: right;\">\n",
       "      <th></th>\n",
       "      <th>0</th>\n",
       "      <th>1</th>\n",
       "      <th>2</th>\n",
       "      <th>3</th>\n",
       "    </tr>\n",
       "  </thead>\n",
       "  <tbody>\n",
       "    <tr>\n",
       "      <th>0</th>\n",
       "      <td>0</td>\n",
       "      <td>8</td>\n",
       "      <td>8</td>\n",
       "      <td>4</td>\n",
       "    </tr>\n",
       "    <tr>\n",
       "      <th>1</th>\n",
       "      <td>6</td>\n",
       "      <td>0</td>\n",
       "      <td>3</td>\n",
       "      <td>7</td>\n",
       "    </tr>\n",
       "    <tr>\n",
       "      <th>2</th>\n",
       "      <td>3</td>\n",
       "      <td>1</td>\n",
       "      <td>3</td>\n",
       "      <td>5</td>\n",
       "    </tr>\n",
       "    <tr>\n",
       "      <th>3</th>\n",
       "      <td>2</td>\n",
       "      <td>2</td>\n",
       "      <td>1</td>\n",
       "      <td>1</td>\n",
       "    </tr>\n",
       "    <tr>\n",
       "      <th>4</th>\n",
       "      <td>3</td>\n",
       "      <td>8</td>\n",
       "      <td>9</td>\n",
       "      <td>7</td>\n",
       "    </tr>\n",
       "    <tr>\n",
       "      <th>5</th>\n",
       "      <td>6</td>\n",
       "      <td>7</td>\n",
       "      <td>3</td>\n",
       "      <td>4</td>\n",
       "    </tr>\n",
       "    <tr>\n",
       "      <th>6</th>\n",
       "      <td>3</td>\n",
       "      <td>6</td>\n",
       "      <td>9</td>\n",
       "      <td>7</td>\n",
       "    </tr>\n",
       "    <tr>\n",
       "      <th>7</th>\n",
       "      <td>8</td>\n",
       "      <td>2</td>\n",
       "      <td>5</td>\n",
       "      <td>1</td>\n",
       "    </tr>\n",
       "  </tbody>\n",
       "</table>\n",
       "</div>"
      ],
      "text/plain": [
       "   0  1  2  3\n",
       "0  0  8  8  4\n",
       "1  6  0  3  7\n",
       "2  3  1  3  5\n",
       "3  2  2  1  1\n",
       "4  3  8  9  7\n",
       "5  6  7  3  4\n",
       "6  3  6  9  7\n",
       "7  8  2  5  1"
      ]
     },
     "execution_count": 69,
     "metadata": {},
     "output_type": "execute_result"
    }
   ],
   "source": [
    "# Data frame alway in 2D \n",
    "pd.DataFrame(d1)"
   ]
  },
  {
   "cell_type": "code",
   "execution_count": null,
   "id": "9ff72248-51d5-4c7a-aafc-2e76af21062f",
   "metadata": {},
   "outputs": [],
   "source": []
  }
 ],
 "metadata": {
  "kernelspec": {
   "display_name": "Python 3 (ipykernel)",
   "language": "python",
   "name": "python3"
  },
  "language_info": {
   "codemirror_mode": {
    "name": "ipython",
    "version": 3
   },
   "file_extension": ".py",
   "mimetype": "text/x-python",
   "name": "python",
   "nbconvert_exporter": "python",
   "pygments_lexer": "ipython3",
   "version": "3.10.6"
  }
 },
 "nbformat": 4,
 "nbformat_minor": 5
}
